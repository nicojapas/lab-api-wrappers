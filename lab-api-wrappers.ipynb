{
 "cells": [
  {
   "cell_type": "markdown",
   "id": "piano-offset",
   "metadata": {},
   "source": [
    "![logo_ironhack_blue 7](https://user-images.githubusercontent.com/23629340/40541063-a07a0a8a-601a-11e8-91b5-2f13e4e6b441.png)\n",
    "\n",
    "# Lab | API wrappers - Create your collection of songs & audio features\n",
    "\n",
    "\n",
    "#### Instructions \n",
    "\n",
    "\n",
    "To move forward with the project, you need to create a collection of songs with their audio features - as large as possible! \n",
    "\n",
    "These are the songs that we will cluster. And, later, when the user inputs a song, we will find the cluster to which the song belongs and recommend a song from the same cluster.\n",
    "The more songs you have, the more accurate and diverse recommendations you'll be able to give. Although... you might want to make sure the collected songs are \"curated\" in a certain way. Try to find playlists of songs that are diverse, but also that meet certain standards.\n",
    "\n",
    "The process of sending hundreds or thousands of requests can take some time - it's normal if you have to wait a few minutes (or, if you're ambitious, even hours) to get all the data you need.\n",
    "\n",
    "An idea for collecting as many songs as possible is to start with all the songs of a big, diverse playlist and then go to every artist present in the playlist and grab every song of every album of that artist. The amount of songs you'll be collecting per playlist will grow exponentially!"
   ]
  },
  {
   "cell_type": "code",
   "execution_count": 21,
   "id": "vulnerable-indiana",
   "metadata": {},
   "outputs": [],
   "source": [
    "import spotipy\n",
    "from spotipy.oauth2 import SpotifyClientCredentials\n",
    "import pandas as pd\n",
    "from tqdm.notebook import tqdm\n",
    "import getpass\n",
    "import math\n",
    "from collections import defaultdict"
   ]
  },
  {
   "cell_type": "code",
   "execution_count": 4,
   "id": "acoustic-publisher",
   "metadata": {},
   "outputs": [
    {
     "name": "stdout",
     "output_type": "stream",
     "text": [
      "input client_id········\n",
      "input client_secret········\n"
     ]
    }
   ],
   "source": [
    "client_id = getpass.getpass(prompt='input client_id') \n",
    "client_secret = getpass.getpass(prompt='input client_secret')"
   ]
  },
  {
   "cell_type": "code",
   "execution_count": 5,
   "id": "short-amazon",
   "metadata": {},
   "outputs": [],
   "source": [
    "sp = spotipy.Spotify(auth_manager=SpotifyClientCredentials(client_id=client_id,\n",
    "                                                           client_secret=client_secret))"
   ]
  },
  {
   "cell_type": "markdown",
   "id": "patient-allergy",
   "metadata": {},
   "source": [
    "Get many songs"
   ]
  },
  {
   "cell_type": "code",
   "execution_count": 6,
   "id": "interim-commonwealth",
   "metadata": {},
   "outputs": [],
   "source": [
    "user = 'spotify'\n",
    "\n",
    "playlists = sp.user_playlists(user)\n",
    "playlist_uri = []\n",
    "\n",
    "while playlists:\n",
    "    for playlist in playlists['items']:\n",
    "        playlist_uri.append(playlist['uri'])\n",
    "    if playlists['next']:\n",
    "        playlists = sp.next(playlists)\n",
    "    else:\n",
    "        playlists = None"
   ]
  },
  {
   "cell_type": "code",
   "execution_count": 10,
   "id": "introductory-launch",
   "metadata": {},
   "outputs": [],
   "source": [
    "def get_tracks_from_playlist(username, playlist_id):\n",
    "    results = sp.user_playlist_tracks(username, playlist_id)\n",
    "    tracks = results['items']\n",
    "    while results['next']:\n",
    "        results = sp.next(results)\n",
    "        tracks.extend(results['items'])\n",
    "    return tracks"
   ]
  },
  {
   "cell_type": "code",
   "execution_count": 8,
   "id": "demanding-princess",
   "metadata": {},
   "outputs": [],
   "source": [
    "def get_all_tracks(uri):\n",
    "\n",
    "    s_id = []\n",
    "    s_name = []\n",
    "    s_artists = []\n",
    "    \n",
    "    results = get_tracks_from_playlist(\"\",uri)\n",
    "    c = 0\n",
    "    for i in results:\n",
    "        if i['track'] != None:\n",
    "            s_id.append(\"missing value\" if i['track']['id'] == None else i['track']['id'])\n",
    "            s_name.append(i['track']['name'])\n",
    "            s_artists.append([j['name'] for j in i['track']['artists']])\n",
    "\n",
    "    return {'song_id':s_id, 'song_name':s_name, 'artists':s_artists}"
   ]
  },
  {
   "cell_type": "code",
   "execution_count": 11,
   "id": "outside-firewall",
   "metadata": {},
   "outputs": [
    {
     "data": {
      "application/vnd.jupyter.widget-view+json": {
       "model_id": "4e44ec43ff6f4e7783abf4ebb16b4651",
       "version_major": 2,
       "version_minor": 0
      },
      "text/plain": [
       "  0%|          | 0/1396 [00:00<?, ?it/s]"
      ]
     },
     "metadata": {},
     "output_type": "display_data"
    }
   ],
   "source": [
    "songs = {'song_id':[], 'song_name':[], 'artists':[]}\n",
    "\n",
    "for i in tqdm(playlist_uri):\n",
    "    d = get_all_tracks(i)\n",
    "    [songs['song_id'].append(i) for i in d['song_id']]\n",
    "    [songs['song_name'].append(i) for i in d['song_name']]\n",
    "    [songs['artists'].append(i) for i in d['artists']]"
   ]
  },
  {
   "cell_type": "code",
   "execution_count": 12,
   "id": "numeric-backup",
   "metadata": {},
   "outputs": [
    {
     "data": {
      "text/html": [
       "<div>\n",
       "<style scoped>\n",
       "    .dataframe tbody tr th:only-of-type {\n",
       "        vertical-align: middle;\n",
       "    }\n",
       "\n",
       "    .dataframe tbody tr th {\n",
       "        vertical-align: top;\n",
       "    }\n",
       "\n",
       "    .dataframe thead th {\n",
       "        text-align: right;\n",
       "    }\n",
       "</style>\n",
       "<table border=\"1\" class=\"dataframe\">\n",
       "  <thead>\n",
       "    <tr style=\"text-align: right;\">\n",
       "      <th></th>\n",
       "      <th>song_id</th>\n",
       "      <th>song_name</th>\n",
       "      <th>artists</th>\n",
       "    </tr>\n",
       "  </thead>\n",
       "  <tbody>\n",
       "    <tr>\n",
       "      <th>0</th>\n",
       "      <td>5Kskr9LcNYa0tpt5f0ZEJx</td>\n",
       "      <td>Calling My Phone</td>\n",
       "      <td>[Lil Tjay, 6LACK]</td>\n",
       "    </tr>\n",
       "    <tr>\n",
       "      <th>1</th>\n",
       "      <td>5uEYRdEIh9Bo4fpjDd4Na9</td>\n",
       "      <td>Goosebumps - Remix</td>\n",
       "      <td>[Travis Scott, HVME]</td>\n",
       "    </tr>\n",
       "    <tr>\n",
       "      <th>2</th>\n",
       "      <td>1diS6nkxMQc3wwC4G1j0bh</td>\n",
       "      <td>We're Good</td>\n",
       "      <td>[Dua Lipa]</td>\n",
       "    </tr>\n",
       "    <tr>\n",
       "      <th>3</th>\n",
       "      <td>5QO79kh1waicV47BqGRL3g</td>\n",
       "      <td>Save Your Tears</td>\n",
       "      <td>[The Weeknd]</td>\n",
       "    </tr>\n",
       "    <tr>\n",
       "      <th>4</th>\n",
       "      <td>7lPN2DXiMsVn7XUKtOW1CS</td>\n",
       "      <td>drivers license</td>\n",
       "      <td>[Olivia Rodrigo]</td>\n",
       "    </tr>\n",
       "    <tr>\n",
       "      <th>...</th>\n",
       "      <td>...</td>\n",
       "      <td>...</td>\n",
       "      <td>...</td>\n",
       "    </tr>\n",
       "    <tr>\n",
       "      <th>102939</th>\n",
       "      <td>5kqIPrATaCc2LqxVWzQGbk</td>\n",
       "      <td>7 Years</td>\n",
       "      <td>[Lukas Graham]</td>\n",
       "    </tr>\n",
       "    <tr>\n",
       "      <th>102940</th>\n",
       "      <td>3FCto7hnn1shUyZL42YgfO</td>\n",
       "      <td>Piano Man</td>\n",
       "      <td>[Billy Joel]</td>\n",
       "    </tr>\n",
       "    <tr>\n",
       "      <th>102941</th>\n",
       "      <td>3XVBdLihbNbxUwZosxcGuJ</td>\n",
       "      <td>If I Ain't Got You</td>\n",
       "      <td>[Alicia Keys]</td>\n",
       "    </tr>\n",
       "    <tr>\n",
       "      <th>102942</th>\n",
       "      <td>6QPKYGnAW9QozVz2dSWqRg</td>\n",
       "      <td>Someone Like You</td>\n",
       "      <td>[Adele]</td>\n",
       "    </tr>\n",
       "    <tr>\n",
       "      <th>102943</th>\n",
       "      <td>1VdZ0vKfR5jneCmWIUAMxK</td>\n",
       "      <td>The A Team</td>\n",
       "      <td>[Ed Sheeran]</td>\n",
       "    </tr>\n",
       "  </tbody>\n",
       "</table>\n",
       "<p>102944 rows × 3 columns</p>\n",
       "</div>"
      ],
      "text/plain": [
       "                       song_id           song_name               artists\n",
       "0       5Kskr9LcNYa0tpt5f0ZEJx    Calling My Phone     [Lil Tjay, 6LACK]\n",
       "1       5uEYRdEIh9Bo4fpjDd4Na9  Goosebumps - Remix  [Travis Scott, HVME]\n",
       "2       1diS6nkxMQc3wwC4G1j0bh          We're Good            [Dua Lipa]\n",
       "3       5QO79kh1waicV47BqGRL3g     Save Your Tears          [The Weeknd]\n",
       "4       7lPN2DXiMsVn7XUKtOW1CS     drivers license      [Olivia Rodrigo]\n",
       "...                        ...                 ...                   ...\n",
       "102939  5kqIPrATaCc2LqxVWzQGbk             7 Years        [Lukas Graham]\n",
       "102940  3FCto7hnn1shUyZL42YgfO           Piano Man          [Billy Joel]\n",
       "102941  3XVBdLihbNbxUwZosxcGuJ  If I Ain't Got You         [Alicia Keys]\n",
       "102942  6QPKYGnAW9QozVz2dSWqRg    Someone Like You               [Adele]\n",
       "102943  1VdZ0vKfR5jneCmWIUAMxK          The A Team          [Ed Sheeran]\n",
       "\n",
       "[102944 rows x 3 columns]"
      ]
     },
     "execution_count": 12,
     "metadata": {},
     "output_type": "execute_result"
    }
   ],
   "source": [
    "df_songs = pd.DataFrame(songs)\n",
    "df_songs"
   ]
  },
  {
   "cell_type": "markdown",
   "id": "extended-greeting",
   "metadata": {},
   "source": [
    "Remove the duplicates"
   ]
  },
  {
   "cell_type": "code",
   "execution_count": 13,
   "id": "durable-blackberry",
   "metadata": {},
   "outputs": [
    {
     "data": {
      "text/html": [
       "<div>\n",
       "<style scoped>\n",
       "    .dataframe tbody tr th:only-of-type {\n",
       "        vertical-align: middle;\n",
       "    }\n",
       "\n",
       "    .dataframe tbody tr th {\n",
       "        vertical-align: top;\n",
       "    }\n",
       "\n",
       "    .dataframe thead th {\n",
       "        text-align: right;\n",
       "    }\n",
       "</style>\n",
       "<table border=\"1\" class=\"dataframe\">\n",
       "  <thead>\n",
       "    <tr style=\"text-align: right;\">\n",
       "      <th></th>\n",
       "      <th>song_id</th>\n",
       "      <th>song_name</th>\n",
       "      <th>artists</th>\n",
       "    </tr>\n",
       "  </thead>\n",
       "  <tbody>\n",
       "    <tr>\n",
       "      <th>0</th>\n",
       "      <td>5Kskr9LcNYa0tpt5f0ZEJx</td>\n",
       "      <td>Calling My Phone</td>\n",
       "      <td>[Lil Tjay, 6LACK]</td>\n",
       "    </tr>\n",
       "    <tr>\n",
       "      <th>1</th>\n",
       "      <td>5uEYRdEIh9Bo4fpjDd4Na9</td>\n",
       "      <td>Goosebumps - Remix</td>\n",
       "      <td>[Travis Scott, HVME]</td>\n",
       "    </tr>\n",
       "    <tr>\n",
       "      <th>2</th>\n",
       "      <td>1diS6nkxMQc3wwC4G1j0bh</td>\n",
       "      <td>We're Good</td>\n",
       "      <td>[Dua Lipa]</td>\n",
       "    </tr>\n",
       "    <tr>\n",
       "      <th>3</th>\n",
       "      <td>5QO79kh1waicV47BqGRL3g</td>\n",
       "      <td>Save Your Tears</td>\n",
       "      <td>[The Weeknd]</td>\n",
       "    </tr>\n",
       "    <tr>\n",
       "      <th>4</th>\n",
       "      <td>7lPN2DXiMsVn7XUKtOW1CS</td>\n",
       "      <td>drivers license</td>\n",
       "      <td>[Olivia Rodrigo]</td>\n",
       "    </tr>\n",
       "    <tr>\n",
       "      <th>...</th>\n",
       "      <td>...</td>\n",
       "      <td>...</td>\n",
       "      <td>...</td>\n",
       "    </tr>\n",
       "    <tr>\n",
       "      <th>81654</th>\n",
       "      <td>3Zuf70897YkrVRAsrBMMSF</td>\n",
       "      <td>You're The One That I Want - From \"Grease\" Ori...</td>\n",
       "      <td>[John Travolta, Olivia Newton-John]</td>\n",
       "    </tr>\n",
       "    <tr>\n",
       "      <th>81655</th>\n",
       "      <td>1MDoll6jK4rrk2BcFRP5i7</td>\n",
       "      <td>Hello</td>\n",
       "      <td>[Adele]</td>\n",
       "    </tr>\n",
       "    <tr>\n",
       "      <th>81656</th>\n",
       "      <td>0ygTmpa6uSotkBkTiwcMZ4</td>\n",
       "      <td>Warwick Avenue</td>\n",
       "      <td>[Duffy]</td>\n",
       "    </tr>\n",
       "    <tr>\n",
       "      <th>81657</th>\n",
       "      <td>7GJClzimvMSghjcrKxuf1M</td>\n",
       "      <td>Budapest</td>\n",
       "      <td>[George Ezra]</td>\n",
       "    </tr>\n",
       "    <tr>\n",
       "      <th>81658</th>\n",
       "      <td>3NNqqioprPCnYcVtDn3wvS</td>\n",
       "      <td>Catch &amp; Release (Deepend remix)</td>\n",
       "      <td>[Matt Simons, Deepend]</td>\n",
       "    </tr>\n",
       "  </tbody>\n",
       "</table>\n",
       "<p>81659 rows × 3 columns</p>\n",
       "</div>"
      ],
      "text/plain": [
       "                      song_id  \\\n",
       "0      5Kskr9LcNYa0tpt5f0ZEJx   \n",
       "1      5uEYRdEIh9Bo4fpjDd4Na9   \n",
       "2      1diS6nkxMQc3wwC4G1j0bh   \n",
       "3      5QO79kh1waicV47BqGRL3g   \n",
       "4      7lPN2DXiMsVn7XUKtOW1CS   \n",
       "...                       ...   \n",
       "81654  3Zuf70897YkrVRAsrBMMSF   \n",
       "81655  1MDoll6jK4rrk2BcFRP5i7   \n",
       "81656  0ygTmpa6uSotkBkTiwcMZ4   \n",
       "81657  7GJClzimvMSghjcrKxuf1M   \n",
       "81658  3NNqqioprPCnYcVtDn3wvS   \n",
       "\n",
       "                                               song_name  \\\n",
       "0                                       Calling My Phone   \n",
       "1                                     Goosebumps - Remix   \n",
       "2                                             We're Good   \n",
       "3                                        Save Your Tears   \n",
       "4                                        drivers license   \n",
       "...                                                  ...   \n",
       "81654  You're The One That I Want - From \"Grease\" Ori...   \n",
       "81655                                              Hello   \n",
       "81656                                     Warwick Avenue   \n",
       "81657                                           Budapest   \n",
       "81658                    Catch & Release (Deepend remix)   \n",
       "\n",
       "                                   artists  \n",
       "0                        [Lil Tjay, 6LACK]  \n",
       "1                     [Travis Scott, HVME]  \n",
       "2                               [Dua Lipa]  \n",
       "3                             [The Weeknd]  \n",
       "4                         [Olivia Rodrigo]  \n",
       "...                                    ...  \n",
       "81654  [John Travolta, Olivia Newton-John]  \n",
       "81655                              [Adele]  \n",
       "81656                              [Duffy]  \n",
       "81657                        [George Ezra]  \n",
       "81658               [Matt Simons, Deepend]  \n",
       "\n",
       "[81659 rows x 3 columns]"
      ]
     },
     "execution_count": 13,
     "metadata": {},
     "output_type": "execute_result"
    }
   ],
   "source": [
    "df_songs = df_songs.drop_duplicates(subset='song_id').reset_index(drop=True)\n",
    "df_songs"
   ]
  },
  {
   "cell_type": "markdown",
   "id": "facial-nelson",
   "metadata": {},
   "source": [
    "Let's get the features, 100 ids at a time"
   ]
  },
  {
   "cell_type": "code",
   "execution_count": 16,
   "id": "amazing-obligation",
   "metadata": {},
   "outputs": [
    {
     "data": {
      "application/vnd.jupyter.widget-view+json": {
       "model_id": "489dd93ceffe4dd6b78a18a3ffaec411",
       "version_major": 2,
       "version_minor": 0
      },
      "text/plain": [
       "  0%|          | 0/817 [00:00<?, ?it/s]"
      ]
     },
     "metadata": {},
     "output_type": "display_data"
    }
   ],
   "source": [
    "features_list = []\n",
    "for i in tqdm(range(math.ceil(df_songs.shape[0]/100))):\n",
    "    features_list.append(sp.audio_features(df_songs['song_id'].to_list()[i*100:(i+1)*100]))"
   ]
  },
  {
   "cell_type": "code",
   "execution_count": 17,
   "id": "talented-overall",
   "metadata": {},
   "outputs": [],
   "source": [
    "features = []\n",
    "[[(features.append(j) if j != None else None) for j in i] for i in features_list]\n",
    "pass"
   ]
  },
  {
   "cell_type": "code",
   "execution_count": 22,
   "id": "liquid-teacher",
   "metadata": {},
   "outputs": [],
   "source": [
    "dic = defaultdict(list)\n",
    "{dic[key].append(f[key]) for f in features for key in f}  \n",
    "df_features = pd.DataFrame(dict(dic))"
   ]
  },
  {
   "cell_type": "code",
   "execution_count": 23,
   "id": "cubic-ownership",
   "metadata": {},
   "outputs": [
    {
     "data": {
      "text/plain": [
       "(81659, 3)"
      ]
     },
     "execution_count": 23,
     "metadata": {},
     "output_type": "execute_result"
    }
   ],
   "source": [
    "df_songs.shape"
   ]
  },
  {
   "cell_type": "code",
   "execution_count": 24,
   "id": "breeding-option",
   "metadata": {},
   "outputs": [
    {
     "data": {
      "text/plain": [
       "(81573, 18)"
      ]
     },
     "execution_count": 24,
     "metadata": {},
     "output_type": "execute_result"
    }
   ],
   "source": [
    "df_features.shape"
   ]
  },
  {
   "cell_type": "code",
   "execution_count": 25,
   "id": "intended-estate",
   "metadata": {},
   "outputs": [
    {
     "data": {
      "text/plain": [
       "Index(['song_id', 'song_name', 'artists', 'danceability', 'energy', 'key',\n",
       "       'loudness', 'mode', 'speechiness', 'acousticness', 'instrumentalness',\n",
       "       'liveness', 'valence', 'tempo', 'type', 'uri', 'track_href',\n",
       "       'analysis_url', 'duration_ms', 'time_signature'],\n",
       "      dtype='object')"
      ]
     },
     "execution_count": 25,
     "metadata": {},
     "output_type": "execute_result"
    }
   ],
   "source": [
    "df_all = df_songs.merge(df_features.rename({'id':'song_id'}, axis=1), on='song_id', how='right')\n",
    "df_all.columns"
   ]
  },
  {
   "cell_type": "code",
   "execution_count": 26,
   "id": "extraordinary-flower",
   "metadata": {},
   "outputs": [],
   "source": [
    "df_all = df_all.drop(['type', 'uri', 'track_href', 'analysis_url'], axis=1)"
   ]
  },
  {
   "cell_type": "code",
   "execution_count": 27,
   "id": "grateful-warehouse",
   "metadata": {},
   "outputs": [
    {
     "data": {
      "text/html": [
       "<div>\n",
       "<style scoped>\n",
       "    .dataframe tbody tr th:only-of-type {\n",
       "        vertical-align: middle;\n",
       "    }\n",
       "\n",
       "    .dataframe tbody tr th {\n",
       "        vertical-align: top;\n",
       "    }\n",
       "\n",
       "    .dataframe thead th {\n",
       "        text-align: right;\n",
       "    }\n",
       "</style>\n",
       "<table border=\"1\" class=\"dataframe\">\n",
       "  <thead>\n",
       "    <tr style=\"text-align: right;\">\n",
       "      <th></th>\n",
       "      <th>song_id</th>\n",
       "      <th>song_name</th>\n",
       "      <th>artists</th>\n",
       "      <th>danceability</th>\n",
       "      <th>energy</th>\n",
       "      <th>key</th>\n",
       "      <th>loudness</th>\n",
       "      <th>mode</th>\n",
       "      <th>speechiness</th>\n",
       "      <th>acousticness</th>\n",
       "      <th>instrumentalness</th>\n",
       "      <th>liveness</th>\n",
       "      <th>valence</th>\n",
       "      <th>tempo</th>\n",
       "      <th>duration_ms</th>\n",
       "      <th>time_signature</th>\n",
       "    </tr>\n",
       "  </thead>\n",
       "  <tbody>\n",
       "    <tr>\n",
       "      <th>0</th>\n",
       "      <td>5Kskr9LcNYa0tpt5f0ZEJx</td>\n",
       "      <td>Calling My Phone</td>\n",
       "      <td>[Lil Tjay, 6LACK]</td>\n",
       "      <td>0.907</td>\n",
       "      <td>0.393</td>\n",
       "      <td>4</td>\n",
       "      <td>-7.636</td>\n",
       "      <td>0</td>\n",
       "      <td>0.0539</td>\n",
       "      <td>0.4510</td>\n",
       "      <td>0.000001</td>\n",
       "      <td>0.135</td>\n",
       "      <td>0.202</td>\n",
       "      <td>104.949</td>\n",
       "      <td>205458</td>\n",
       "      <td>4</td>\n",
       "    </tr>\n",
       "    <tr>\n",
       "      <th>1</th>\n",
       "      <td>5uEYRdEIh9Bo4fpjDd4Na9</td>\n",
       "      <td>Goosebumps - Remix</td>\n",
       "      <td>[Travis Scott, HVME]</td>\n",
       "      <td>0.841</td>\n",
       "      <td>0.593</td>\n",
       "      <td>1</td>\n",
       "      <td>-7.846</td>\n",
       "      <td>1</td>\n",
       "      <td>0.0379</td>\n",
       "      <td>0.4180</td>\n",
       "      <td>0.000000</td>\n",
       "      <td>0.124</td>\n",
       "      <td>0.808</td>\n",
       "      <td>124.917</td>\n",
       "      <td>162803</td>\n",
       "      <td>4</td>\n",
       "    </tr>\n",
       "    <tr>\n",
       "      <th>2</th>\n",
       "      <td>1diS6nkxMQc3wwC4G1j0bh</td>\n",
       "      <td>We're Good</td>\n",
       "      <td>[Dua Lipa]</td>\n",
       "      <td>0.722</td>\n",
       "      <td>0.588</td>\n",
       "      <td>6</td>\n",
       "      <td>-5.932</td>\n",
       "      <td>1</td>\n",
       "      <td>0.0544</td>\n",
       "      <td>0.0319</td>\n",
       "      <td>0.000000</td>\n",
       "      <td>0.183</td>\n",
       "      <td>0.590</td>\n",
       "      <td>134.010</td>\n",
       "      <td>165507</td>\n",
       "      <td>4</td>\n",
       "    </tr>\n",
       "    <tr>\n",
       "      <th>3</th>\n",
       "      <td>5QO79kh1waicV47BqGRL3g</td>\n",
       "      <td>Save Your Tears</td>\n",
       "      <td>[The Weeknd]</td>\n",
       "      <td>0.680</td>\n",
       "      <td>0.826</td>\n",
       "      <td>0</td>\n",
       "      <td>-5.487</td>\n",
       "      <td>1</td>\n",
       "      <td>0.0309</td>\n",
       "      <td>0.0212</td>\n",
       "      <td>0.000012</td>\n",
       "      <td>0.543</td>\n",
       "      <td>0.644</td>\n",
       "      <td>118.051</td>\n",
       "      <td>215627</td>\n",
       "      <td>4</td>\n",
       "    </tr>\n",
       "    <tr>\n",
       "      <th>4</th>\n",
       "      <td>7lPN2DXiMsVn7XUKtOW1CS</td>\n",
       "      <td>drivers license</td>\n",
       "      <td>[Olivia Rodrigo]</td>\n",
       "      <td>0.585</td>\n",
       "      <td>0.436</td>\n",
       "      <td>10</td>\n",
       "      <td>-8.761</td>\n",
       "      <td>1</td>\n",
       "      <td>0.0601</td>\n",
       "      <td>0.7210</td>\n",
       "      <td>0.000013</td>\n",
       "      <td>0.105</td>\n",
       "      <td>0.132</td>\n",
       "      <td>143.874</td>\n",
       "      <td>242014</td>\n",
       "      <td>4</td>\n",
       "    </tr>\n",
       "  </tbody>\n",
       "</table>\n",
       "</div>"
      ],
      "text/plain": [
       "                  song_id           song_name               artists  \\\n",
       "0  5Kskr9LcNYa0tpt5f0ZEJx    Calling My Phone     [Lil Tjay, 6LACK]   \n",
       "1  5uEYRdEIh9Bo4fpjDd4Na9  Goosebumps - Remix  [Travis Scott, HVME]   \n",
       "2  1diS6nkxMQc3wwC4G1j0bh          We're Good            [Dua Lipa]   \n",
       "3  5QO79kh1waicV47BqGRL3g     Save Your Tears          [The Weeknd]   \n",
       "4  7lPN2DXiMsVn7XUKtOW1CS     drivers license      [Olivia Rodrigo]   \n",
       "\n",
       "   danceability  energy  key  loudness  mode  speechiness  acousticness  \\\n",
       "0         0.907   0.393    4    -7.636     0       0.0539        0.4510   \n",
       "1         0.841   0.593    1    -7.846     1       0.0379        0.4180   \n",
       "2         0.722   0.588    6    -5.932     1       0.0544        0.0319   \n",
       "3         0.680   0.826    0    -5.487     1       0.0309        0.0212   \n",
       "4         0.585   0.436   10    -8.761     1       0.0601        0.7210   \n",
       "\n",
       "   instrumentalness  liveness  valence    tempo  duration_ms  time_signature  \n",
       "0          0.000001     0.135    0.202  104.949       205458               4  \n",
       "1          0.000000     0.124    0.808  124.917       162803               4  \n",
       "2          0.000000     0.183    0.590  134.010       165507               4  \n",
       "3          0.000012     0.543    0.644  118.051       215627               4  \n",
       "4          0.000013     0.105    0.132  143.874       242014               4  "
      ]
     },
     "execution_count": 27,
     "metadata": {},
     "output_type": "execute_result"
    }
   ],
   "source": [
    "df_all.head()"
   ]
  },
  {
   "cell_type": "code",
   "execution_count": 28,
   "id": "identified-thirty",
   "metadata": {},
   "outputs": [
    {
     "data": {
      "text/plain": [
       "(81573, 16)"
      ]
     },
     "execution_count": 28,
     "metadata": {},
     "output_type": "execute_result"
    }
   ],
   "source": [
    "df_all.shape"
   ]
  },
  {
   "cell_type": "code",
   "execution_count": null,
   "id": "suffering-print",
   "metadata": {},
   "outputs": [],
   "source": []
  }
 ],
 "metadata": {
  "kernelspec": {
   "display_name": "Python 3",
   "language": "python",
   "name": "python3"
  },
  "language_info": {
   "codemirror_mode": {
    "name": "ipython",
    "version": 3
   },
   "file_extension": ".py",
   "mimetype": "text/x-python",
   "name": "python",
   "nbconvert_exporter": "python",
   "pygments_lexer": "ipython3",
   "version": "3.7.9"
  }
 },
 "nbformat": 4,
 "nbformat_minor": 5
}
