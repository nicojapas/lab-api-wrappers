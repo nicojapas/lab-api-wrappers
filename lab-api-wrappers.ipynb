{
 "cells": [
  {
   "cell_type": "markdown",
   "id": "piano-offset",
   "metadata": {},
   "source": [
    "![logo_ironhack_blue 7](https://user-images.githubusercontent.com/23629340/40541063-a07a0a8a-601a-11e8-91b5-2f13e4e6b441.png)\n",
    "\n",
    "# Lab | API wrappers - Create your collection of songs & audio features\n",
    "\n",
    "\n",
    "#### Instructions \n",
    "\n",
    "\n",
    "To move forward with the project, you need to create a collection of songs with their audio features - as large as possible! \n",
    "\n",
    "These are the songs that we will cluster. And, later, when the user inputs a song, we will find the cluster to which the song belongs and recommend a song from the same cluster.\n",
    "The more songs you have, the more accurate and diverse recommendations you'll be able to give. Although... you might want to make sure the collected songs are \"curated\" in a certain way. Try to find playlists of songs that are diverse, but also that meet certain standards.\n",
    "\n",
    "The process of sending hundreds or thousands of requests can take some time - it's normal if you have to wait a few minutes (or, if you're ambitious, even hours) to get all the data you need.\n",
    "\n",
    "An idea for collecting as many songs as possible is to start with all the songs of a big, diverse playlist and then go to every artist present in the playlist and grab every song of every album of that artist. The amount of songs you'll be collecting per playlist will grow exponentially!"
   ]
  },
  {
   "cell_type": "code",
   "execution_count": 3,
   "id": "vulnerable-indiana",
   "metadata": {},
   "outputs": [],
   "source": [
    "import spotipy\n",
    "from spotipy.oauth2 import SpotifyClientCredentials\n",
    "import pandas as pd\n",
    "from tqdm.notebook import tqdm\n",
    "import getpass"
   ]
  },
  {
   "cell_type": "code",
   "execution_count": 4,
   "id": "institutional-walnut",
   "metadata": {},
   "outputs": [
    {
     "name": "stdout",
     "output_type": "stream",
     "text": [
      "input client_id········\n",
      "input client_secret········\n"
     ]
    }
   ],
   "source": [
    "client_id = getpass.getpass(prompt='input client_id') \n",
    "client_secret = getpass.getpass(prompt='input client_secret')"
   ]
  },
  {
   "cell_type": "code",
   "execution_count": 5,
   "id": "short-amazon",
   "metadata": {},
   "outputs": [],
   "source": [
    "sp = spotipy.Spotify(auth_manager=SpotifyClientCredentials(client_id=client_id,\n",
    "                                                           client_secret=client_secret))"
   ]
  },
  {
   "cell_type": "markdown",
   "id": "patient-allergy",
   "metadata": {},
   "source": [
    "Get many songs"
   ]
  },
  {
   "cell_type": "code",
   "execution_count": 6,
   "id": "interim-commonwealth",
   "metadata": {},
   "outputs": [],
   "source": [
    "user = 'spotify'\n",
    "\n",
    "playlists = sp.user_playlists(user)\n",
    "playlist_uri = []\n",
    "\n",
    "while playlists:\n",
    "    for playlist in playlists['items']:\n",
    "        playlist_uri.append(playlist['uri'])\n",
    "    if playlists['next']:\n",
    "        playlists = sp.next(playlists)\n",
    "    else:\n",
    "        playlists = None"
   ]
  },
  {
   "cell_type": "code",
   "execution_count": 10,
   "id": "introductory-launch",
   "metadata": {},
   "outputs": [],
   "source": [
    "def get_tracks_from_playlist(username, playlist_id):\n",
    "    results = sp.user_playlist_tracks(username, playlist_id)\n",
    "    tracks = results['items']\n",
    "    while results['next']:\n",
    "        results = sp.next(results)\n",
    "        tracks.extend(results['items'])\n",
    "    return tracks"
   ]
  },
  {
   "cell_type": "code",
   "execution_count": 8,
   "id": "demanding-princess",
   "metadata": {},
   "outputs": [],
   "source": [
    "def get_all_tracks(uri):\n",
    "\n",
    "    s_id = []\n",
    "    s_name = []\n",
    "    s_artists = []\n",
    "    \n",
    "    results = get_tracks_from_playlist(\"\",uri)\n",
    "    c = 0\n",
    "    for i in results:\n",
    "        if i['track'] != None:\n",
    "            s_id.append(\"missing value\" if i['track']['id'] == None else i['track']['id'])\n",
    "            s_name.append(i['track']['name'])\n",
    "            s_artists.append([j['name'] for j in i['track']['artists']])\n",
    "\n",
    "    return {'song_id':s_id, 'song_name':s_name, 'artists':s_artists}"
   ]
  },
  {
   "cell_type": "code",
   "execution_count": 11,
   "id": "outside-firewall",
   "metadata": {},
   "outputs": [
    {
     "data": {
      "application/vnd.jupyter.widget-view+json": {
       "model_id": "4e44ec43ff6f4e7783abf4ebb16b4651",
       "version_major": 2,
       "version_minor": 0
      },
      "text/plain": [
       "  0%|          | 0/1396 [00:00<?, ?it/s]"
      ]
     },
     "metadata": {},
     "output_type": "display_data"
    }
   ],
   "source": [
    "songs = {'song_id':[], 'song_name':[], 'artists':[]}\n",
    "\n",
    "for i in tqdm(playlist_uri):\n",
    "    d = get_all_tracks(i)\n",
    "    [songs['song_id'].append(i) for i in d['song_id']]\n",
    "    [songs['song_name'].append(i) for i in d['song_name']]\n",
    "    [songs['artists'].append(i) for i in d['artists']]"
   ]
  },
  {
   "cell_type": "code",
   "execution_count": null,
   "id": "numeric-backup",
   "metadata": {},
   "outputs": [],
   "source": [
    "df_songs = pd.DataFrame(songs)\n",
    "df_songs"
   ]
  },
  {
   "cell_type": "markdown",
   "id": "extended-greeting",
   "metadata": {},
   "source": [
    "Remove the duplicates"
   ]
  },
  {
   "cell_type": "code",
   "execution_count": null,
   "id": "durable-blackberry",
   "metadata": {},
   "outputs": [],
   "source": [
    "df_songs = df_songs.drop_duplicates(subset='song_id').reset_index(drop=True)\n",
    "df_songs"
   ]
  },
  {
   "cell_type": "markdown",
   "id": "naval-footage",
   "metadata": {},
   "source": [
    "Let's get the features, 100 ids at a time"
   ]
  },
  {
   "cell_type": "code",
   "execution_count": null,
   "id": "paperback-florida",
   "metadata": {},
   "outputs": [],
   "source": [
    "features_list = []\n",
    "for i in tqdm(range(math.ceil(df_songs.shape[0]/100))):\n",
    "    features_list.append(sp.audio_features(df_songs['song_id'].to_list()[i*100:(i+1)*100]))"
   ]
  },
  {
   "cell_type": "code",
   "execution_count": null,
   "id": "leading-entity",
   "metadata": {},
   "outputs": [],
   "source": [
    "features = []\n",
    "[[(features.append(j) if j != None else None) for j in i] for i in features_list]\n",
    "pass"
   ]
  },
  {
   "cell_type": "code",
   "execution_count": null,
   "id": "hundred-national",
   "metadata": {},
   "outputs": [],
   "source": [
    "dic = defaultdict(list)\n",
    "{dic[key].append(f[key]) for f in features for key in f}  \n",
    "df_features = pd.DataFrame(dict(dic))"
   ]
  },
  {
   "cell_type": "code",
   "execution_count": null,
   "id": "caroline-vegetation",
   "metadata": {},
   "outputs": [],
   "source": [
    "df_songs.shape"
   ]
  },
  {
   "cell_type": "code",
   "execution_count": null,
   "id": "assigned-sample",
   "metadata": {},
   "outputs": [],
   "source": [
    "df_features.shape"
   ]
  },
  {
   "cell_type": "code",
   "execution_count": null,
   "id": "attractive-governor",
   "metadata": {},
   "outputs": [],
   "source": [
    "df_all = df_songs.merge(df_features.rename({'id':'song_id'}, axis=1), on='song_id', how='right')\n",
    "df_all.columns"
   ]
  },
  {
   "cell_type": "code",
   "execution_count": null,
   "id": "numerical-dover",
   "metadata": {},
   "outputs": [],
   "source": [
    "df_all = df_all.drop(['type', 'uri', 'track_href', 'analysis_url'], axis=1)"
   ]
  },
  {
   "cell_type": "code",
   "execution_count": null,
   "id": "educated-welding",
   "metadata": {},
   "outputs": [],
   "source": [
    "df_all.head()"
   ]
  }
 ],
 "metadata": {
  "kernelspec": {
   "display_name": "Python 3",
   "language": "python",
   "name": "python3"
  },
  "language_info": {
   "codemirror_mode": {
    "name": "ipython",
    "version": 3
   },
   "file_extension": ".py",
   "mimetype": "text/x-python",
   "name": "python",
   "nbconvert_exporter": "python",
   "pygments_lexer": "ipython3",
   "version": "3.7.9"
  }
 },
 "nbformat": 4,
 "nbformat_minor": 5
}
