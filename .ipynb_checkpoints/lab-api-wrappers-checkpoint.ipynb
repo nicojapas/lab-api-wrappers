{
 "cells": [
  {
   "cell_type": "markdown",
   "id": "piano-offset",
   "metadata": {},
   "source": [
    "![logo_ironhack_blue 7](https://user-images.githubusercontent.com/23629340/40541063-a07a0a8a-601a-11e8-91b5-2f13e4e6b441.png)\n",
    "\n",
    "# Lab | API wrappers - Create your collection of songs & audio features\n",
    "\n",
    "\n",
    "#### Instructions \n",
    "\n",
    "\n",
    "To move forward with the project, you need to create a collection of songs with their audio features - as large as possible! \n",
    "\n",
    "These are the songs that we will cluster. And, later, when the user inputs a song, we will find the cluster to which the song belongs and recommend a song from the same cluster.\n",
    "The more songs you have, the more accurate and diverse recommendations you'll be able to give. Although... you might want to make sure the collected songs are \"curated\" in a certain way. Try to find playlists of songs that are diverse, but also that meet certain standards.\n",
    "\n",
    "The process of sending hundreds or thousands of requests can take some time - it's normal if you have to wait a few minutes (or, if you're ambitious, even hours) to get all the data you need.\n",
    "\n",
    "An idea for collecting as many songs as possible is to start with all the songs of a big, diverse playlist and then go to every artist present in the playlist and grab every song of every album of that artist. The amount of songs you'll be collecting per playlist will grow exponentially!"
   ]
  },
  {
   "cell_type": "code",
   "execution_count": 1,
   "id": "vulnerable-indiana",
   "metadata": {},
   "outputs": [],
   "source": [
    "import spotipy\n",
    "from spotipy.oauth2 import SpotifyClientCredentials\n",
    "import pandas as pd\n",
    "import tqdm"
   ]
  },
  {
   "cell_type": "code",
   "execution_count": 2,
   "id": "short-amazon",
   "metadata": {},
   "outputs": [],
   "source": [
    "sp = spotipy.Spotify(auth_manager=SpotifyClientCredentials(client_id=\"64c2853e1fdd437f881a7e4623735b4f\",\n",
    "                                                           client_secret=\"dd6ef4812ed542f8b7679bf6d4649bcc\"))"
   ]
  },
  {
   "cell_type": "markdown",
   "id": "patient-allergy",
   "metadata": {},
   "source": [
    "Get many songs"
   ]
  },
  {
   "cell_type": "code",
   "execution_count": 3,
   "id": "interim-commonwealth",
   "metadata": {},
   "outputs": [],
   "source": [
    "user = 'spotify'\n",
    "\n",
    "playlists = sp.user_playlists(user)\n",
    "playlist_uri = []\n",
    "\n",
    "while playlists:\n",
    "    for playlist in playlists['items']:\n",
    "        playlist_uri.append(playlist['uri'])\n",
    "    if playlists['next']:\n",
    "        playlists = sp.next(playlists)\n",
    "    else:\n",
    "        playlists = None"
   ]
  },
  {
   "cell_type": "code",
   "execution_count": 4,
   "id": "introductory-launch",
   "metadata": {},
   "outputs": [],
   "source": [
    "def get_playlist_tracks(username, playlist_id):\n",
    "    results = sp.user_playlist_tracks(username, playlist_id)\n",
    "    tracks = results['items']\n",
    "    while results['next']:\n",
    "        results = sp.next(results)\n",
    "        tracks.extend(results['items'])\n",
    "    return tracks"
   ]
  },
  {
   "cell_type": "code",
   "execution_count": 5,
   "id": "demanding-princess",
   "metadata": {},
   "outputs": [],
   "source": [
    "def get_all_tracks(uri):\n",
    "    results = get_playlist_tracks(\"\",uri)\n",
    "    t0 = []\n",
    "    t1 = []\n",
    "    t2 = []\n",
    "    for i in results:\n",
    "        t0.append(i['track']['id'])\n",
    "        if i['track']['name'] is not None:\n",
    "            t1.append(i['track']['name'])\n",
    "            l = []\n",
    "            for j in i['track']['artists']:\n",
    "                if i['track']['artists'] is not None:\n",
    "                    l.append(j['name'])\n",
    "            t2.append(l)\n",
    "    data = pd.DataFrame({'id':t0, 'song':t1, 'artists':t2})\n",
    "    return data"
   ]
  },
  {
   "cell_type": "code",
   "execution_count": 6,
   "id": "outside-firewall",
   "metadata": {},
   "outputs": [],
   "source": [
    "# for i in range(len(playlist_uri)):\n",
    "#     print(i)\n",
    "#     get_all_tracks(playlist_uri[i])"
   ]
  },
  {
   "cell_type": "code",
   "execution_count": 7,
   "id": "numeric-backup",
   "metadata": {},
   "outputs": [],
   "source": [
    "# playlist_uri[19]"
   ]
  },
  {
   "cell_type": "code",
   "execution_count": 8,
   "id": "durable-blackberry",
   "metadata": {},
   "outputs": [],
   "source": [
    "# get_all_tracks(playlist_uri[19])"
   ]
  },
  {
   "cell_type": "code",
   "execution_count": 10,
   "id": "innocent-whole",
   "metadata": {},
   "outputs": [],
   "source": [
    "master_table = pd.DataFrame(columns={'id', 'song', 'artists'})\n",
    "\n",
    "for i in playlist_uri:\n",
    "    try:\n",
    "        master_table = pd.concat([master_table,get_all_tracks(i)])\n",
    "    except:\n",
    "        pass\n",
    "    # I know, \"be specific\". Don't mention it ;)"
   ]
  },
  {
   "cell_type": "code",
   "execution_count": 11,
   "id": "skilled-memory",
   "metadata": {},
   "outputs": [
    {
     "data": {
      "text/html": [
       "<div>\n",
       "<style scoped>\n",
       "    .dataframe tbody tr th:only-of-type {\n",
       "        vertical-align: middle;\n",
       "    }\n",
       "\n",
       "    .dataframe tbody tr th {\n",
       "        vertical-align: top;\n",
       "    }\n",
       "\n",
       "    .dataframe thead th {\n",
       "        text-align: right;\n",
       "    }\n",
       "</style>\n",
       "<table border=\"1\" class=\"dataframe\">\n",
       "  <thead>\n",
       "    <tr style=\"text-align: right;\">\n",
       "      <th></th>\n",
       "      <th>id</th>\n",
       "      <th>song</th>\n",
       "      <th>artists</th>\n",
       "    </tr>\n",
       "  </thead>\n",
       "  <tbody>\n",
       "    <tr>\n",
       "      <th>0</th>\n",
       "      <td>5QO79kh1waicV47BqGRL3g</td>\n",
       "      <td>Save Your Tears</td>\n",
       "      <td>[The Weeknd]</td>\n",
       "    </tr>\n",
       "    <tr>\n",
       "      <th>1</th>\n",
       "      <td>5uEYRdEIh9Bo4fpjDd4Na9</td>\n",
       "      <td>Goosebumps - Remix</td>\n",
       "      <td>[Travis Scott, HVME]</td>\n",
       "    </tr>\n",
       "    <tr>\n",
       "      <th>2</th>\n",
       "      <td>3eZYOQO4UzKrUDYDghtnFw</td>\n",
       "      <td>test drive</td>\n",
       "      <td>[Ariana Grande]</td>\n",
       "    </tr>\n",
       "    <tr>\n",
       "      <th>3</th>\n",
       "      <td>1diS6nkxMQc3wwC4G1j0bh</td>\n",
       "      <td>We're Good</td>\n",
       "      <td>[Dua Lipa]</td>\n",
       "    </tr>\n",
       "    <tr>\n",
       "      <th>4</th>\n",
       "      <td>7lPN2DXiMsVn7XUKtOW1CS</td>\n",
       "      <td>drivers license</td>\n",
       "      <td>[Olivia Rodrigo]</td>\n",
       "    </tr>\n",
       "  </tbody>\n",
       "</table>\n",
       "</div>"
      ],
      "text/plain": [
       "                       id                song               artists\n",
       "0  5QO79kh1waicV47BqGRL3g     Save Your Tears          [The Weeknd]\n",
       "1  5uEYRdEIh9Bo4fpjDd4Na9  Goosebumps - Remix  [Travis Scott, HVME]\n",
       "2  3eZYOQO4UzKrUDYDghtnFw          test drive       [Ariana Grande]\n",
       "3  1diS6nkxMQc3wwC4G1j0bh          We're Good            [Dua Lipa]\n",
       "4  7lPN2DXiMsVn7XUKtOW1CS     drivers license      [Olivia Rodrigo]"
      ]
     },
     "execution_count": 11,
     "metadata": {},
     "output_type": "execute_result"
    }
   ],
   "source": [
    "master_table.head()"
   ]
  },
  {
   "cell_type": "code",
   "execution_count": 12,
   "id": "conceptual-cycling",
   "metadata": {},
   "outputs": [
    {
     "data": {
      "text/plain": [
       "(101440, 3)"
      ]
     },
     "execution_count": 12,
     "metadata": {},
     "output_type": "execute_result"
    }
   ],
   "source": [
    "master_table.shape"
   ]
  },
  {
   "cell_type": "code",
   "execution_count": 13,
   "id": "surgical-presentation",
   "metadata": {},
   "outputs": [
    {
     "data": {
      "text/html": [
       "<div>\n",
       "<style scoped>\n",
       "    .dataframe tbody tr th:only-of-type {\n",
       "        vertical-align: middle;\n",
       "    }\n",
       "\n",
       "    .dataframe tbody tr th {\n",
       "        vertical-align: top;\n",
       "    }\n",
       "\n",
       "    .dataframe thead th {\n",
       "        text-align: right;\n",
       "    }\n",
       "</style>\n",
       "<table border=\"1\" class=\"dataframe\">\n",
       "  <thead>\n",
       "    <tr style=\"text-align: right;\">\n",
       "      <th></th>\n",
       "      <th>id</th>\n",
       "      <th>song</th>\n",
       "      <th>artists</th>\n",
       "    </tr>\n",
       "  </thead>\n",
       "  <tbody>\n",
       "    <tr>\n",
       "      <th>0</th>\n",
       "      <td>5QO79kh1waicV47BqGRL3g</td>\n",
       "      <td>Save Your Tears</td>\n",
       "      <td>[The Weeknd]</td>\n",
       "    </tr>\n",
       "    <tr>\n",
       "      <th>1</th>\n",
       "      <td>5uEYRdEIh9Bo4fpjDd4Na9</td>\n",
       "      <td>Goosebumps - Remix</td>\n",
       "      <td>[Travis Scott, HVME]</td>\n",
       "    </tr>\n",
       "    <tr>\n",
       "      <th>2</th>\n",
       "      <td>3eZYOQO4UzKrUDYDghtnFw</td>\n",
       "      <td>test drive</td>\n",
       "      <td>[Ariana Grande]</td>\n",
       "    </tr>\n",
       "    <tr>\n",
       "      <th>3</th>\n",
       "      <td>1diS6nkxMQc3wwC4G1j0bh</td>\n",
       "      <td>We're Good</td>\n",
       "      <td>[Dua Lipa]</td>\n",
       "    </tr>\n",
       "    <tr>\n",
       "      <th>4</th>\n",
       "      <td>7lPN2DXiMsVn7XUKtOW1CS</td>\n",
       "      <td>drivers license</td>\n",
       "      <td>[Olivia Rodrigo]</td>\n",
       "    </tr>\n",
       "  </tbody>\n",
       "</table>\n",
       "</div>"
      ],
      "text/plain": [
       "                       id                song               artists\n",
       "0  5QO79kh1waicV47BqGRL3g     Save Your Tears          [The Weeknd]\n",
       "1  5uEYRdEIh9Bo4fpjDd4Na9  Goosebumps - Remix  [Travis Scott, HVME]\n",
       "2  3eZYOQO4UzKrUDYDghtnFw          test drive       [Ariana Grande]\n",
       "3  1diS6nkxMQc3wwC4G1j0bh          We're Good            [Dua Lipa]\n",
       "4  7lPN2DXiMsVn7XUKtOW1CS     drivers license      [Olivia Rodrigo]"
      ]
     },
     "execution_count": 13,
     "metadata": {},
     "output_type": "execute_result"
    }
   ],
   "source": [
    "master_table.head()"
   ]
  },
  {
   "cell_type": "markdown",
   "id": "extended-greeting",
   "metadata": {},
   "source": [
    "Remove the duplicates"
   ]
  },
  {
   "cell_type": "code",
   "execution_count": 58,
   "id": "incoming-blink",
   "metadata": {},
   "outputs": [
    {
     "data": {
      "text/plain": [
       "(80773, 3)"
      ]
     },
     "execution_count": 58,
     "metadata": {},
     "output_type": "execute_result"
    }
   ],
   "source": [
    "master_table = master_table.drop_duplicates(subset='id')\n",
    "master_table.shape"
   ]
  },
  {
   "cell_type": "markdown",
   "id": "specified-triangle",
   "metadata": {},
   "source": [
    "Let's take a subset to calculate features"
   ]
  },
  {
   "cell_type": "code",
   "execution_count": 69,
   "id": "modified-specific",
   "metadata": {},
   "outputs": [],
   "source": [
    "SMALL_TABLE_NOF_ROWS = 50"
   ]
  },
  {
   "cell_type": "code",
   "execution_count": 70,
   "id": "pending-think",
   "metadata": {},
   "outputs": [
    {
     "data": {
      "text/plain": [
       "(50, 3)"
      ]
     },
     "execution_count": 70,
     "metadata": {},
     "output_type": "execute_result"
    }
   ],
   "source": [
    "small_table = master_table[:SMALL_TABLE_NOF_ROWS]\n",
    "small_table = small_table.drop_duplicates(subset='id')\n",
    "small_table.shape"
   ]
  },
  {
   "cell_type": "code",
   "execution_count": 71,
   "id": "expanded-california",
   "metadata": {},
   "outputs": [
    {
     "data": {
      "text/html": [
       "<div>\n",
       "<style scoped>\n",
       "    .dataframe tbody tr th:only-of-type {\n",
       "        vertical-align: middle;\n",
       "    }\n",
       "\n",
       "    .dataframe tbody tr th {\n",
       "        vertical-align: top;\n",
       "    }\n",
       "\n",
       "    .dataframe thead th {\n",
       "        text-align: right;\n",
       "    }\n",
       "</style>\n",
       "<table border=\"1\" class=\"dataframe\">\n",
       "  <thead>\n",
       "    <tr style=\"text-align: right;\">\n",
       "      <th></th>\n",
       "      <th>id</th>\n",
       "      <th>song</th>\n",
       "      <th>artists</th>\n",
       "    </tr>\n",
       "  </thead>\n",
       "  <tbody>\n",
       "    <tr>\n",
       "      <th>0</th>\n",
       "      <td>5QO79kh1waicV47BqGRL3g</td>\n",
       "      <td>Save Your Tears</td>\n",
       "      <td>[The Weeknd]</td>\n",
       "    </tr>\n",
       "    <tr>\n",
       "      <th>1</th>\n",
       "      <td>5uEYRdEIh9Bo4fpjDd4Na9</td>\n",
       "      <td>Goosebumps - Remix</td>\n",
       "      <td>[Travis Scott, HVME]</td>\n",
       "    </tr>\n",
       "    <tr>\n",
       "      <th>2</th>\n",
       "      <td>3eZYOQO4UzKrUDYDghtnFw</td>\n",
       "      <td>test drive</td>\n",
       "      <td>[Ariana Grande]</td>\n",
       "    </tr>\n",
       "    <tr>\n",
       "      <th>3</th>\n",
       "      <td>1diS6nkxMQc3wwC4G1j0bh</td>\n",
       "      <td>We're Good</td>\n",
       "      <td>[Dua Lipa]</td>\n",
       "    </tr>\n",
       "    <tr>\n",
       "      <th>4</th>\n",
       "      <td>7lPN2DXiMsVn7XUKtOW1CS</td>\n",
       "      <td>drivers license</td>\n",
       "      <td>[Olivia Rodrigo]</td>\n",
       "    </tr>\n",
       "  </tbody>\n",
       "</table>\n",
       "</div>"
      ],
      "text/plain": [
       "                       id                song               artists\n",
       "0  5QO79kh1waicV47BqGRL3g     Save Your Tears          [The Weeknd]\n",
       "1  5uEYRdEIh9Bo4fpjDd4Na9  Goosebumps - Remix  [Travis Scott, HVME]\n",
       "2  3eZYOQO4UzKrUDYDghtnFw          test drive       [Ariana Grande]\n",
       "3  1diS6nkxMQc3wwC4G1j0bh          We're Good            [Dua Lipa]\n",
       "4  7lPN2DXiMsVn7XUKtOW1CS     drivers license      [Olivia Rodrigo]"
      ]
     },
     "execution_count": 71,
     "metadata": {},
     "output_type": "execute_result"
    }
   ],
   "source": [
    "small_table.head()"
   ]
  },
  {
   "cell_type": "code",
   "execution_count": 72,
   "id": "parental-melbourne",
   "metadata": {},
   "outputs": [
    {
     "data": {
      "text/html": [
       "<div>\n",
       "<style scoped>\n",
       "    .dataframe tbody tr th:only-of-type {\n",
       "        vertical-align: middle;\n",
       "    }\n",
       "\n",
       "    .dataframe tbody tr th {\n",
       "        vertical-align: top;\n",
       "    }\n",
       "\n",
       "    .dataframe thead th {\n",
       "        text-align: right;\n",
       "    }\n",
       "</style>\n",
       "<table border=\"1\" class=\"dataframe\">\n",
       "  <thead>\n",
       "    <tr style=\"text-align: right;\">\n",
       "      <th></th>\n",
       "      <th>danceability</th>\n",
       "      <th>energy</th>\n",
       "      <th>key</th>\n",
       "      <th>loudness</th>\n",
       "      <th>mode</th>\n",
       "      <th>speechiness</th>\n",
       "      <th>acousticness</th>\n",
       "      <th>instrumentalness</th>\n",
       "      <th>liveness</th>\n",
       "      <th>valence</th>\n",
       "      <th>tempo</th>\n",
       "      <th>duration_ms</th>\n",
       "      <th>time_signature</th>\n",
       "    </tr>\n",
       "  </thead>\n",
       "  <tbody>\n",
       "    <tr>\n",
       "      <th>0</th>\n",
       "      <td>0.680</td>\n",
       "      <td>0.826</td>\n",
       "      <td>0</td>\n",
       "      <td>-5.487</td>\n",
       "      <td>1</td>\n",
       "      <td>0.0309</td>\n",
       "      <td>0.0212</td>\n",
       "      <td>0.000012</td>\n",
       "      <td>0.543</td>\n",
       "      <td>0.644</td>\n",
       "      <td>118.051</td>\n",
       "      <td>215627</td>\n",
       "      <td>4</td>\n",
       "    </tr>\n",
       "    <tr>\n",
       "      <th>1</th>\n",
       "      <td>0.841</td>\n",
       "      <td>0.593</td>\n",
       "      <td>1</td>\n",
       "      <td>-7.846</td>\n",
       "      <td>1</td>\n",
       "      <td>0.0379</td>\n",
       "      <td>0.4180</td>\n",
       "      <td>0.000000</td>\n",
       "      <td>0.124</td>\n",
       "      <td>0.808</td>\n",
       "      <td>124.917</td>\n",
       "      <td>162803</td>\n",
       "      <td>4</td>\n",
       "    </tr>\n",
       "    <tr>\n",
       "      <th>2</th>\n",
       "      <td>0.698</td>\n",
       "      <td>0.708</td>\n",
       "      <td>9</td>\n",
       "      <td>-4.943</td>\n",
       "      <td>0</td>\n",
       "      <td>0.0454</td>\n",
       "      <td>0.0251</td>\n",
       "      <td>0.000000</td>\n",
       "      <td>0.124</td>\n",
       "      <td>0.322</td>\n",
       "      <td>115.036</td>\n",
       "      <td>122174</td>\n",
       "      <td>4</td>\n",
       "    </tr>\n",
       "    <tr>\n",
       "      <th>3</th>\n",
       "      <td>0.722</td>\n",
       "      <td>0.588</td>\n",
       "      <td>6</td>\n",
       "      <td>-5.932</td>\n",
       "      <td>1</td>\n",
       "      <td>0.0544</td>\n",
       "      <td>0.0319</td>\n",
       "      <td>0.000000</td>\n",
       "      <td>0.183</td>\n",
       "      <td>0.590</td>\n",
       "      <td>134.010</td>\n",
       "      <td>165507</td>\n",
       "      <td>4</td>\n",
       "    </tr>\n",
       "    <tr>\n",
       "      <th>4</th>\n",
       "      <td>0.585</td>\n",
       "      <td>0.436</td>\n",
       "      <td>10</td>\n",
       "      <td>-8.761</td>\n",
       "      <td>1</td>\n",
       "      <td>0.0601</td>\n",
       "      <td>0.7210</td>\n",
       "      <td>0.000013</td>\n",
       "      <td>0.105</td>\n",
       "      <td>0.132</td>\n",
       "      <td>143.874</td>\n",
       "      <td>242014</td>\n",
       "      <td>4</td>\n",
       "    </tr>\n",
       "  </tbody>\n",
       "</table>\n",
       "</div>"
      ],
      "text/plain": [
       "   danceability  energy  key  loudness  mode  speechiness  acousticness  \\\n",
       "0         0.680   0.826    0    -5.487     1       0.0309        0.0212   \n",
       "1         0.841   0.593    1    -7.846     1       0.0379        0.4180   \n",
       "2         0.698   0.708    9    -4.943     0       0.0454        0.0251   \n",
       "3         0.722   0.588    6    -5.932     1       0.0544        0.0319   \n",
       "4         0.585   0.436   10    -8.761     1       0.0601        0.7210   \n",
       "\n",
       "   instrumentalness  liveness  valence    tempo  duration_ms  time_signature  \n",
       "0          0.000012     0.543    0.644  118.051       215627               4  \n",
       "1          0.000000     0.124    0.808  124.917       162803               4  \n",
       "2          0.000000     0.124    0.322  115.036       122174               4  \n",
       "3          0.000000     0.183    0.590  134.010       165507               4  \n",
       "4          0.000013     0.105    0.132  143.874       242014               4  "
      ]
     },
     "execution_count": 72,
     "metadata": {},
     "output_type": "execute_result"
    }
   ],
   "source": [
    "small_features = pd.DataFrame()\n",
    "for i in small_table['id']:\n",
    "    f = sp.audio_features(i)\n",
    "    small_features = pd.concat([small_features,pd.DataFrame(f)], ignore_index=True)\n",
    "    small_features = small_features.drop(['id', 'type', 'uri', 'track_href', 'analysis_url'], axis=1)\n",
    "\n",
    "small_features.head()"
   ]
  },
  {
   "cell_type": "code",
   "execution_count": 73,
   "id": "spanish-morocco",
   "metadata": {},
   "outputs": [
    {
     "data": {
      "text/plain": [
       "(50, 16)"
      ]
     },
     "execution_count": 73,
     "metadata": {},
     "output_type": "execute_result"
    }
   ],
   "source": [
    "small_table = pd.concat([small_table, small_features], axis=1)\n",
    "small_table.shape"
   ]
  },
  {
   "cell_type": "code",
   "execution_count": 74,
   "id": "identical-cameroon",
   "metadata": {},
   "outputs": [
    {
     "data": {
      "text/html": [
       "<div>\n",
       "<style scoped>\n",
       "    .dataframe tbody tr th:only-of-type {\n",
       "        vertical-align: middle;\n",
       "    }\n",
       "\n",
       "    .dataframe tbody tr th {\n",
       "        vertical-align: top;\n",
       "    }\n",
       "\n",
       "    .dataframe thead th {\n",
       "        text-align: right;\n",
       "    }\n",
       "</style>\n",
       "<table border=\"1\" class=\"dataframe\">\n",
       "  <thead>\n",
       "    <tr style=\"text-align: right;\">\n",
       "      <th></th>\n",
       "      <th>id</th>\n",
       "      <th>song</th>\n",
       "      <th>artists</th>\n",
       "      <th>danceability</th>\n",
       "      <th>energy</th>\n",
       "      <th>key</th>\n",
       "      <th>loudness</th>\n",
       "      <th>mode</th>\n",
       "      <th>speechiness</th>\n",
       "      <th>acousticness</th>\n",
       "      <th>instrumentalness</th>\n",
       "      <th>liveness</th>\n",
       "      <th>valence</th>\n",
       "      <th>tempo</th>\n",
       "      <th>duration_ms</th>\n",
       "      <th>time_signature</th>\n",
       "    </tr>\n",
       "  </thead>\n",
       "  <tbody>\n",
       "    <tr>\n",
       "      <th>0</th>\n",
       "      <td>5QO79kh1waicV47BqGRL3g</td>\n",
       "      <td>Save Your Tears</td>\n",
       "      <td>[The Weeknd]</td>\n",
       "      <td>0.680</td>\n",
       "      <td>0.826</td>\n",
       "      <td>0</td>\n",
       "      <td>-5.487</td>\n",
       "      <td>1</td>\n",
       "      <td>0.0309</td>\n",
       "      <td>0.0212</td>\n",
       "      <td>0.000012</td>\n",
       "      <td>0.543</td>\n",
       "      <td>0.644</td>\n",
       "      <td>118.051</td>\n",
       "      <td>215627</td>\n",
       "      <td>4</td>\n",
       "    </tr>\n",
       "    <tr>\n",
       "      <th>1</th>\n",
       "      <td>5uEYRdEIh9Bo4fpjDd4Na9</td>\n",
       "      <td>Goosebumps - Remix</td>\n",
       "      <td>[Travis Scott, HVME]</td>\n",
       "      <td>0.841</td>\n",
       "      <td>0.593</td>\n",
       "      <td>1</td>\n",
       "      <td>-7.846</td>\n",
       "      <td>1</td>\n",
       "      <td>0.0379</td>\n",
       "      <td>0.4180</td>\n",
       "      <td>0.000000</td>\n",
       "      <td>0.124</td>\n",
       "      <td>0.808</td>\n",
       "      <td>124.917</td>\n",
       "      <td>162803</td>\n",
       "      <td>4</td>\n",
       "    </tr>\n",
       "    <tr>\n",
       "      <th>2</th>\n",
       "      <td>3eZYOQO4UzKrUDYDghtnFw</td>\n",
       "      <td>test drive</td>\n",
       "      <td>[Ariana Grande]</td>\n",
       "      <td>0.698</td>\n",
       "      <td>0.708</td>\n",
       "      <td>9</td>\n",
       "      <td>-4.943</td>\n",
       "      <td>0</td>\n",
       "      <td>0.0454</td>\n",
       "      <td>0.0251</td>\n",
       "      <td>0.000000</td>\n",
       "      <td>0.124</td>\n",
       "      <td>0.322</td>\n",
       "      <td>115.036</td>\n",
       "      <td>122174</td>\n",
       "      <td>4</td>\n",
       "    </tr>\n",
       "    <tr>\n",
       "      <th>3</th>\n",
       "      <td>1diS6nkxMQc3wwC4G1j0bh</td>\n",
       "      <td>We're Good</td>\n",
       "      <td>[Dua Lipa]</td>\n",
       "      <td>0.722</td>\n",
       "      <td>0.588</td>\n",
       "      <td>6</td>\n",
       "      <td>-5.932</td>\n",
       "      <td>1</td>\n",
       "      <td>0.0544</td>\n",
       "      <td>0.0319</td>\n",
       "      <td>0.000000</td>\n",
       "      <td>0.183</td>\n",
       "      <td>0.590</td>\n",
       "      <td>134.010</td>\n",
       "      <td>165507</td>\n",
       "      <td>4</td>\n",
       "    </tr>\n",
       "    <tr>\n",
       "      <th>4</th>\n",
       "      <td>7lPN2DXiMsVn7XUKtOW1CS</td>\n",
       "      <td>drivers license</td>\n",
       "      <td>[Olivia Rodrigo]</td>\n",
       "      <td>0.585</td>\n",
       "      <td>0.436</td>\n",
       "      <td>10</td>\n",
       "      <td>-8.761</td>\n",
       "      <td>1</td>\n",
       "      <td>0.0601</td>\n",
       "      <td>0.7210</td>\n",
       "      <td>0.000013</td>\n",
       "      <td>0.105</td>\n",
       "      <td>0.132</td>\n",
       "      <td>143.874</td>\n",
       "      <td>242014</td>\n",
       "      <td>4</td>\n",
       "    </tr>\n",
       "  </tbody>\n",
       "</table>\n",
       "</div>"
      ],
      "text/plain": [
       "                       id                song               artists  \\\n",
       "0  5QO79kh1waicV47BqGRL3g     Save Your Tears          [The Weeknd]   \n",
       "1  5uEYRdEIh9Bo4fpjDd4Na9  Goosebumps - Remix  [Travis Scott, HVME]   \n",
       "2  3eZYOQO4UzKrUDYDghtnFw          test drive       [Ariana Grande]   \n",
       "3  1diS6nkxMQc3wwC4G1j0bh          We're Good            [Dua Lipa]   \n",
       "4  7lPN2DXiMsVn7XUKtOW1CS     drivers license      [Olivia Rodrigo]   \n",
       "\n",
       "   danceability  energy  key  loudness  mode  speechiness  acousticness  \\\n",
       "0         0.680   0.826    0    -5.487     1       0.0309        0.0212   \n",
       "1         0.841   0.593    1    -7.846     1       0.0379        0.4180   \n",
       "2         0.698   0.708    9    -4.943     0       0.0454        0.0251   \n",
       "3         0.722   0.588    6    -5.932     1       0.0544        0.0319   \n",
       "4         0.585   0.436   10    -8.761     1       0.0601        0.7210   \n",
       "\n",
       "   instrumentalness  liveness  valence    tempo  duration_ms  time_signature  \n",
       "0          0.000012     0.543    0.644  118.051       215627               4  \n",
       "1          0.000000     0.124    0.808  124.917       162803               4  \n",
       "2          0.000000     0.124    0.322  115.036       122174               4  \n",
       "3          0.000000     0.183    0.590  134.010       165507               4  \n",
       "4          0.000013     0.105    0.132  143.874       242014               4  "
      ]
     },
     "execution_count": 74,
     "metadata": {},
     "output_type": "execute_result"
    }
   ],
   "source": [
    "small_table.head()"
   ]
  },
  {
   "cell_type": "code",
   "execution_count": null,
   "id": "available-purpose",
   "metadata": {},
   "outputs": [],
   "source": []
  }
 ],
 "metadata": {
  "kernelspec": {
   "display_name": "Python 3",
   "language": "python",
   "name": "python3"
  },
  "language_info": {
   "codemirror_mode": {
    "name": "ipython",
    "version": 3
   },
   "file_extension": ".py",
   "mimetype": "text/x-python",
   "name": "python",
   "nbconvert_exporter": "python",
   "pygments_lexer": "ipython3",
   "version": "3.7.9"
  }
 },
 "nbformat": 4,
 "nbformat_minor": 5
}
