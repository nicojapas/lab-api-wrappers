{
 "cells": [
  {
   "cell_type": "markdown",
   "id": "acknowledged-appliance",
   "metadata": {},
   "source": [
    "Spotify API keys"
   ]
  },
  {
   "cell_type": "code",
   "execution_count": 1,
   "id": "external-trunk",
   "metadata": {},
   "outputs": [],
   "source": [
    "client_id=\"64c2853e1fdd437f881a7e4623735b4f\"\n",
    "client_secret=\"dd6ef4812ed542f8b7679bf6d4649bcc\""
   ]
  },
  {
   "cell_type": "code",
   "execution_count": null,
   "id": "guilty-trick",
   "metadata": {},
   "outputs": [],
   "source": []
  }
 ],
 "metadata": {
  "kernelspec": {
   "display_name": "Python 3",
   "language": "python",
   "name": "python3"
  },
  "language_info": {
   "codemirror_mode": {
    "name": "ipython",
    "version": 3
   },
   "file_extension": ".py",
   "mimetype": "text/x-python",
   "name": "python",
   "nbconvert_exporter": "python",
   "pygments_lexer": "ipython3",
   "version": "3.7.9"
  }
 },
 "nbformat": 4,
 "nbformat_minor": 5
}
